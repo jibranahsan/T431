{
 "cells": [
  {
   "cell_type": "code",
   "execution_count": 7,
   "id": "b8285708-7b61-4f3a-b3da-da85313def3d",
   "metadata": {},
   "outputs": [
    {
     "name": "stdin",
     "output_type": "stream",
     "text": [
      "Enter url of medium article:\n",
      " https://medium.com/tag/python\n"
     ]
    },
    {
     "name": "stdout",
     "output_type": "stream",
     "text": [
      "paragraphs text = \n",
      " [<p class=\"bf b gc gd ge gf gg gh gi gj gk gl fz\"><span><button class=\"bf b gc gd gm ge gf gn gg gh go gp gj gq gr gl gs gt gu gv gw gx gy gz ha hb hc hd he hf hg hh bm hi hj\" data-testid=\"headerSignUpButton\">Sign up</button></span></p>, <p class=\"bf b gc gd ge gf gg gh gi gj gk gl fz\"><span><a class=\"af ag ah ai aj ak al am an ao ap aq ar as at\" data-testid=\"headerSignInButton\" href=\"/m/signin?operation=login&amp;redirect=https%3A%2F%2Fmedium.com%2Ftag%2Fpython&amp;source=login---top_nav_layout_nav-----------------------global_nav-----------\" rel=\"noopener follow\">Sign in</a></span></p>, <p class=\"bf b gc gd ge gf gg gh gi gj gk gl fz\"><span><button class=\"bf b gc gd gm ge gf gn gg gh go gp gj gq gr gl gs gt gu gv gw gx gy gz ha hb hc hd he hf hg hh bm hi hj\" data-testid=\"headerSignUpButton\">Sign up</button></span></p>, <p class=\"bf b gc gd ge gf gg gh gi gj gk gl fz\"><span><a class=\"af ag ah ai aj ak al am an ao ap aq ar as at\" data-testid=\"headerSignInButton\" href=\"/m/signin?operation=login&amp;redirect=https%3A%2F%2Fmedium.com%2Ftag%2Fpython&amp;source=login---top_nav_layout_nav-----------------------global_nav-----------\" rel=\"noopener follow\">Sign in</a></span></p>, <p class=\"bf b ga z fz\">In</p>, <p class=\"bf b ga z cm ns nt nu nv nw nx ny bk\">Towards Data Science</p>, <p class=\"bf b ga z fz\">by</p>, <p class=\"bf b ga z cm ns nt nu nv nw nx ny bk\">Amanda Iglesias Moreno</p>, <p class=\"bf b ga z cm ns nt nu nv nw nx ny bk\">Keith McNulty</p>, <p class=\"bf b ga z fz\">In</p>, <p class=\"bf b ga z cm ns nt nu nv nw nx ny bk\">Towards Data Science</p>, <p class=\"bf b ga z fz\">by</p>, <p class=\"bf b ga z cm ns nt nu nv nw nx ny bk\">Florian Trautweiler</p>, <p class=\"bf b ga z cm ns nt nu nv nw nx ny bk\">Hiroaki Kubo</p>, <p class=\"bf b ga z cm ns nt nu nv nw nx ny bk\">Pavel Anni</p>, <p class=\"bf b ga z fz\">In</p>, <p class=\"bf b ga z cm ns nt nu nv nw nx ny bk\">Towards Data Science</p>, <p class=\"bf b ga z fz\">by</p>, <p class=\"bf b ga z cm ns nt nu nv nw nx ny bk\">Amanda Iglesias Moreno</p>, <p class=\"bf b ga z cm ns nt nu nv nw nx ny bk\">Keith McNulty</p>, <p class=\"bf b ga z fz\">In</p>, <p class=\"bf b ga z cm ns nt nu nv nw nx ny bk\">Towards Data Science</p>, <p class=\"bf b ga z fz\">by</p>, <p class=\"bf b ga z cm ns nt nu nv nw nx ny bk\">Florian Trautweiler</p>, <p class=\"bf b ga z cm ns nt nu nv nw nx ny bk\">Hiroaki Kubo</p>, <p class=\"bf b ga z cm ns nt nu nv nw nx ny bk\">Pavel Anni</p>, <p class=\"bf b ga z fz\">In</p>, <p class=\"bf b ga z cm ns nt nu nv nw nx ny bk\">Towards Data Science</p>, <p class=\"bf b ga z fz\">by</p>, <p class=\"bf b ga z cm ns nt nu nv nw nx ny bk\">Vianney Mixtur</p>, <p class=\"bf b ga z fz\">In</p>, <p class=\"bf b ga z cm ns nt nu nv nw nx ny bk\">Level Up Coding</p>, <p class=\"bf b ga z fz\">by</p>, <p class=\"bf b ga z cm ns nt nu nv nw nx ny bk\">Liu Zuo Lin</p>, <p class=\"bf b ga z fz\">In</p>, <p class=\"bf b ga z cm ns nt nu nv nw nx ny bk\">Towards AI</p>, <p class=\"bf b ga z fz\">by</p>, <p class=\"bf b ga z cm ns nt nu nv nw nx ny bk\">John Loewen, PhD</p>]\n",
      "python\n",
      "File saved in directory scraped_articles/python.txt\n"
     ]
    }
   ],
   "source": [
    "import os\n",
    "import requests\n",
    "import re\n",
    "# Code here - Import BeautifulSoup library\n",
    "from bs4 import BeautifulSoup\n",
    "import sys\n",
    "# Code ends here\n",
    "\n",
    "\n",
    "# function to get the html source text of the medium article\n",
    "def get_page():\n",
    "    global url\n",
    "    \n",
    "    # Code here - Ask the user to input \"Enter url of a medium article: \" and collect it in url\n",
    "    url=input(\"Enter url of medium article:\\n\")\n",
    "    # Code ends here\n",
    "    \n",
    "    # handling possible error\n",
    "    if not re.match(r'https?://medium.com/',url):\n",
    "        print('Please enter a valid website, or make sure it is a medium article')\n",
    "        sys.exit(1)\n",
    "\n",
    "    # Code here - Call get method in requests object, pass url and collect it in res\n",
    "    res = requests.get(url)\n",
    "    # Code ends here\n",
    "\n",
    "    res.raise_for_status()\n",
    "    soup = BeautifulSoup(res.text, 'html.parser')\n",
    "    return soup\n",
    "\n",
    "\n",
    "# function to remove all the html tags and replace some with specific strings\n",
    "def clean(text):\n",
    "    rep = {\"<br>\": \"\\n\", \"<br/>\": \"\\n\", \"<li>\":  \"\\n\"}\n",
    "    rep = dict((re.escape(k), v) for k, v in rep.items()) \n",
    "    pattern = re.compile(\"|\".join(rep.keys()))\n",
    "    text = pattern.sub(lambda m: rep[re.escape(m.group(0))], text)\n",
    "    text = re.sub(r'\\<(.*?)\\>', '', text)\n",
    "    return text\n",
    "\n",
    "\n",
    "def collect_text(soup):\n",
    "    text = f'url: {url}\\n\\n'\n",
    "    para_text = soup.find_all('p')\n",
    "    print(f\"paragraphs text = \\n {para_text}\")\n",
    "    for para in para_text:\n",
    "        text += f\"{para.text}\\n\\n\"\n",
    "    return text\n",
    "\n",
    "# function to save file in the current directory\n",
    "def save_file(text):\n",
    "    if not os.path.exists('./scraped_articles'):\n",
    "        os.mkdir('./scraped_articles')\n",
    "    name = url.split(\"/\")[-1]\n",
    "    print(name)\n",
    "    fname = f'scraped_articles/{name}.txt'\n",
    "    \n",
    "    # Code here - write a file using with (2 lines)\n",
    "    with open(fname, \"w\") as f:\n",
    "                f.write(text)\n",
    "\n",
    "    # Code ends here\n",
    "\n",
    "    print(f'File saved in directory {fname}')\n",
    "\n",
    "\n",
    "if __name__ == '__main__':\n",
    "    text = collect_text(get_page())\n",
    "    save_file(text)\n",
    "    # Instructions to Run this python code\n",
    "    # Give url as https://medium.com/@subashgandyer/papa-what-is-a-neural-network-c5e5cc427c7\n"
   ]
  },
  {
   "cell_type": "code",
   "execution_count": null,
   "id": "c02a3c3a-d5f1-46f1-b74b-22a64fbd84da",
   "metadata": {},
   "outputs": [],
   "source": []
  }
 ],
 "metadata": {
  "kernelspec": {
   "display_name": "Python [conda env:base] *",
   "language": "python",
   "name": "conda-base-py"
  },
  "language_info": {
   "codemirror_mode": {
    "name": "ipython",
    "version": 3
   },
   "file_extension": ".py",
   "mimetype": "text/x-python",
   "name": "python",
   "nbconvert_exporter": "python",
   "pygments_lexer": "ipython3",
   "version": "3.12.7"
  }
 },
 "nbformat": 4,
 "nbformat_minor": 5
}
